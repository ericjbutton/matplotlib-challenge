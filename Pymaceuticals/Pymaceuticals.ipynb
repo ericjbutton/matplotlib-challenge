{
 "cells": [
  {
   "cell_type": "code",
   "execution_count": null,
   "id": "5e90d81c",
   "metadata": {},
   "outputs": [],
   "source": [
    "#Dependencies\n",
    "import numpy as np\n",
    "import pandas as pd\n",
    "import matplotlib.pyplot as plt"
   ]
  },
  {
   "cell_type": "code",
   "execution_count": null,
   "id": "8820a6d5",
   "metadata": {},
   "outputs": [],
   "source": [
    "#Read CSV file\n",
    "mouse_file = \"Resources/Mouse_metadata.csv\"\n",
    "result_file = \"Resources/Study_results.csv\"\n",
    "\n",
    "mouse_data = pd.read_csv(mouse_file)\n",
    "study_results = pd.read_csv(result_file)\n"
   ]
  },
  {
   "cell_type": "code",
   "execution_count": null,
   "id": "59590900",
   "metadata": {},
   "outputs": [],
   "source": [
    "# Combine the data into a single dataset\n",
    "combined_data = pd.merge(mouse_data,study_results,how=\"outer\", on=\"Mouse ID\")\n",
    "# Display the data table for preview\n",
    "print(combined_data.shape)\n",
    "combined_data.head()"
   ]
  },
  {
   "cell_type": "code",
   "execution_count": null,
   "id": "d6e3c0c4",
   "metadata": {},
   "outputs": [],
   "source": [
    "# Checking the number of mice.\n",
    "combined_data[\"Mouse ID\"].nunique()"
   ]
  },
  {
   "cell_type": "code",
   "execution_count": null,
   "id": "ac09ba28",
   "metadata": {},
   "outputs": [],
   "source": [
    " # Getting the duplicate mice by ID number that shows up for Mouse ID and Timepoint. \n",
    "combined_data.loc[combined_data[['Mouse ID','Timepoint']].duplicated(keep=False),:]\n",
    "                                                           "
   ]
  },
  {
   "cell_type": "code",
   "execution_count": null,
   "id": "662a302f",
   "metadata": {},
   "outputs": [],
   "source": [
    " # Optional: Get all the data for the duplicate mouse ID. \n",
    "print(combined_data.loc[(combined_data[\"Mouse ID\"]==\"g989\"),:].shape)\n",
    "combined_data.loc[(combined_data[\"Mouse ID\"]==\"g989\"),:]"
   ]
  },
  {
   "cell_type": "code",
   "execution_count": null,
   "id": "ecda1bd3",
   "metadata": {},
   "outputs": [],
   "source": [
    "# Create a clean DataFrame by dropping the duplicate mouse by its ID.\n",
    "combined_data.drop(combined_data.loc[combined_data['Mouse ID']==\"g989\",:].index,inplace=True)\n",
    "combined_data.shape"
   ]
  },
  {
   "cell_type": "code",
   "execution_count": null,
   "id": "02be533b",
   "metadata": {},
   "outputs": [],
   "source": [
    "# Checking the number of mice in the clean DataFrame.\n",
    "combined_data['Mouse ID'].nunique()"
   ]
  },
  {
   "cell_type": "code",
   "execution_count": null,
   "id": "9b7eac59",
   "metadata": {},
   "outputs": [],
   "source": [
    " # Generate a summary statistics table of mean, median, variance, standard deviation, and SEM of the tumor volume for each regimen\n",
    "\n",
    "# Use groupby and summary statistical methods to calculate the following properties of each drug regimen: \n",
    "# mean, median, variance, standard deviation, and SEM of the tumor volume. \n",
    "# Assemble the resulting series into a single summary dataframe."
   ]
  },
  {
   "cell_type": "code",
   "execution_count": null,
   "id": "4d512d27",
   "metadata": {},
   "outputs": [],
   "source": [
    " # Generate a summary statistics table of mean, median, variance, standard deviation, and SEM of the tumor volume for each regimen\n",
    "\n",
    "# Using the aggregation method, produce the same summary statistics in a single line"
   ]
  }
 ],
 "metadata": {
  "kernelspec": {
   "display_name": "PythonData38",
   "language": "python",
   "name": "pythondata38"
  },
  "language_info": {
   "codemirror_mode": {
    "name": "ipython",
    "version": 3
   },
   "file_extension": ".py",
   "mimetype": "text/x-python",
   "name": "python",
   "nbconvert_exporter": "python",
   "pygments_lexer": "ipython3",
   "version": "3.9.12"
  }
 },
 "nbformat": 4,
 "nbformat_minor": 5
}
